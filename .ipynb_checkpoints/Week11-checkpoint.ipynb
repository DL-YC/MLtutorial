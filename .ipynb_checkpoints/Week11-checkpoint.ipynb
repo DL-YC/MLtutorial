{
 "cells": [
  {
   "cell_type": "markdown",
   "metadata": {},
   "source": [
    "# Week 10\n",
    "\n",
    "\n",
    "### Photo OCR pipeline\n",
    "\n",
    "Image —>\n",
    "\n",
    "Text detection —>\n",
    "\n",
    "Character segmentation —>\n",
    "\n",
    "Character recognition —>\n",
    "\n",
    "### Sliding Windows\n",
    "\n",
    "- Pedestrian detection\n",
    "- Supervised learning for pedestrian detection\n",
    "- Image patches\n",
    "- Sliding windows with the image patches\n",
    "- Step size of one works best, but is most computationally intensive, can use a step size of a few steps\n",
    "- Text detection\n",
    "- Expansion operator\n",
    "- Character segmentation\n",
    "- Character recognition\n",
    "\n",
    "### Artificial data synthesis\n"
   ]
  },
  {
   "cell_type": "code",
   "execution_count": null,
   "metadata": {
    "collapsed": true
   },
   "outputs": [],
   "source": []
  }
 ],
 "metadata": {
  "kernelspec": {
   "display_name": "Python 2",
   "language": "python",
   "name": "python2"
  },
  "language_info": {
   "codemirror_mode": {
    "name": "ipython",
    "version": 2
   },
   "file_extension": ".py",
   "mimetype": "text/x-python",
   "name": "python",
   "nbconvert_exporter": "python",
   "pygments_lexer": "ipython2",
   "version": "2.7.9"
  }
 },
 "nbformat": 4,
 "nbformat_minor": 0
}
