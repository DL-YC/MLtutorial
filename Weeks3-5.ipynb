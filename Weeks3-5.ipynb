{
 "metadata": {
  "celltoolbar": "Raw Cell Format",
  "name": "",
  "signature": "sha256:6884d386805cc212527d1e389e718cd50d791d390136770c19dec03454103cfa"
 },
 "nbformat": 3,
 "nbformat_minor": 0,
 "worksheets": [
  {
   "cells": [
    {
     "cell_type": "code",
     "collapsed": false,
     "input": [
      "# Use this to turn into a reveal.js html presentation\n",
      "# ipython nbconvert Weeks3-5.ipynb --to slides --post serve\n",
      "\n",
      "import math\n",
      "import matplotlib.pyplot as plt\n",
      "import numpy as np\n",
      "%matplotlib inline"
     ],
     "language": "python",
     "metadata": {
      "slideshow": {
       "slide_type": "skip"
      }
     },
     "outputs": [],
     "prompt_number": 225
    },
    {
     "cell_type": "markdown",
     "metadata": {
      "slideshow": {
       "slide_type": "slide"
      }
     },
     "source": [
      "# Classification\n",
      "\n",
      "### Using linear regression\n",
      "\n",
      "$$h_\\theta (x) = \\theta^T x$$\n",
      "\n",
      "### Using sigmoid function (AKA, logistic function)\n",
      "\n",
      "$$g(z) = \\frac {1} {1 + e^{-z}}$$\n",
      "\n",
      "$$ h_\\theta (x) = \\frac {1} {1 + e^{-\\theta^T x}}$$\n",
      "\n",
      "\n"
     ]
    },
    {
     "cell_type": "code",
     "collapsed": false,
     "input": [
      "def sigmoid(x):\n",
      "    a = []\n",
      "    for item in x:\n",
      "        a.append(1/(1+math.exp(-item)))\n",
      "    return a\n",
      "\n",
      "x = np.arange(-10., 10., 0.2)\n",
      "sig = sigmoid(x)\n",
      "plt.plot(x,sig)\n",
      "plt.show()"
     ],
     "language": "python",
     "metadata": {
      "slideshow": {
       "slide_type": "slide"
      }
     },
     "outputs": [
      {
       "metadata": {},
       "output_type": "display_data",
       "png": "[encoded data removed]",
       "text": [
        "<matplotlib.figure.Figure at 0x114646b90>"
       ]
      }
     ],
     "prompt_number": 226
    },
    {
     "cell_type": "markdown",
     "metadata": {
      "slideshow": {
       "slide_type": "subslide"
      }
     },
     "source": [
      "The value of $h_\\theta(x)$ is interpreted as the probability that y = 1, for input x.\n",
      "\n",
      "$$ h_\\theta(x) = P (y = 1 \\ | \\ x;  \\theta) $$\n",
      "\n",
      "Accordingly:\n",
      "\n",
      "$$ P (y = 0 \\ | \\ x;  \\theta) = 1 - h_\\theta(x) $$\n",
      "\n",
      "## Decision Boundary\n",
      "\n",
      "- Just a threshold\n",
      "- Predict $y = 1$ is $h_\\theta(x) \\geq 0.5$\n",
      "    - (this happens whenever $\\theta^T x \\geq 0$\n",
      "\n"
     ]
    },
    {
     "cell_type": "code",
     "collapsed": false,
     "input": [
      "### Decision boundary example\n",
      "import matplotlib.cm as cm\n",
      "\n",
      "n = 7\n",
      "x1 = 2 * np.random.rand(1,n)\n",
      "x2 = 2 * np.random.rand(1,n) + 1.5\n",
      "xs_linear = np.array([x1, x2])\n",
      "\n",
      "y1 = 2.5 * np.random.rand(1,n)\n",
      "y2 = 2.5 * np.random.rand(1,n) + 1\n",
      "ys_linear = np.array([y1, y2])\n",
      "\n",
      "colors = cm.rainbow(np.linspace(0, 1, len(ys)))\n",
      "for x, y, c in zip(xs_linear, ys_linear, colors):\n",
      "    plt.scatter(x, y, color=c)\n",
      "plt.show()"
     ],
     "language": "python",
     "metadata": {},
     "outputs": [
      {
       "metadata": {},
       "output_type": "display_data",
       "png": "[encoded data removed]",
       "text": [
        "<matplotlib.figure.Figure at 0x114e40950>"
       ]
      }
     ],
     "prompt_number": 227
    },
    {
     "cell_type": "markdown",
     "metadata": {},
     "source": [
      "To create the decision boundary for the above example, use logistic regression:\n",
      "\n",
      "$$h_\\theta(x) = g(\\theta_0 + \\theta_1 x_1 + \\theta_2 x_2)$$\n",
      "\n",
      "With parameters: \n",
      "\n",
      "$$\n",
      "\\theta = \n",
      "\\begin{bmatrix}\n",
      "-3\\cr\n",
      "1\\cr\n",
      "1\n",
      "\\end{bmatrix}$$\n",
      "\n",
      "Predict $y=1$ if \n",
      "\n",
      "$$\\theta^T x \\geq 0$$\n",
      "$$-3 + x_1 + x_2 \\geq 0$$\n",
      "\n",
      "Where our decision boundary is\n",
      "\n",
      "$$x_1 + x_2 = 3$$"
     ]
    },
    {
     "cell_type": "code",
     "collapsed": false,
     "input": [
      "linex = np.arange(0, 3.5, 0.2)\n",
      "theta = np.array([-3, 1, 1])\n",
      "liney = (- theta[1] * linex - theta[0] * 1) / theta[2]\n",
      "plt.plot(linex, liney, color='k')\n",
      "colors = cm.rainbow(np.linspace(0, 1, len(ys)))\n",
      "for x, y, c in zip(xs_linear, ys_linear, colors):\n",
      "    plt.scatter(x, y, color=c)\n",
      "plt.show()"
     ],
     "language": "python",
     "metadata": {},
     "outputs": [
      {
       "output_type": "stream",
       "stream": "stdout",
       "text": [
        "[-3  1  1]\n",
        "-3\n"
       ]
      },
      {
       "metadata": {},
       "output_type": "display_data",
       "png": "[encoded data removed]",
       "text": [
        "<matplotlib.figure.Figure at 0x1143583d0>"
       ]
      }
     ],
     "prompt_number": 238
    },
    {
     "cell_type": "markdown",
     "metadata": {},
     "source": [
      "### Non-linear decision boundaries\n"
     ]
    },
    {
     "cell_type": "code",
     "collapsed": false,
     "input": [
      "n = 12\n",
      "x1 = 2 * np.random.rand(1,n) -1\n",
      "y1 = 2 * np.random.rand(1,n) -1\n",
      "\n",
      "\n",
      "r = 2\n",
      "def drawcircle(x):\n",
      "    a = []\n",
      "    for item in x:\n",
      "        a.append(math.sqrt(r**2 - item**2))\n",
      "    return a\n",
      "\n",
      "x2_a = 2 * r * np.random.rand(1,n/2) - r\n",
      "y2_a = drawcircle(x2_a[0])\n",
      "x2_b = 2 * r * np.random.rand(1,n/2) - r\n",
      "y2_b = drawcircle(x2_b[0])\n",
      "y2_b = np.multiply(y2_b,-1)\n",
      "\n",
      "x2 = np.hstack((x2_a, x2_b))\n",
      "y2 = np.hstack((y2_a, y2_b))\n",
      "\n",
      "xs = np.array([x1, x2])\n",
      "ys = np.array([y1, y2])\n",
      "\n",
      "colors = cm.rainbow(np.linspace(0, 1, len(ys)))\n",
      "\n",
      "for x, y, c in zip(xs, ys, colors):\n",
      "    plt.scatter(x, y, color=c)\n",
      "from pylab import axes\n",
      "axes().set_aspect('equal', 'datalim')\n",
      "plt.show()"
     ],
     "language": "python",
     "metadata": {},
     "outputs": [
      {
       "metadata": {},
       "output_type": "display_data",
       "png": "[encoded data removed]",
       "text": [
        "<matplotlib.figure.Figure at 0x11415db50>"
       ]
      }
     ],
     "prompt_number": 229
    },
    {
     "cell_type": "markdown",
     "metadata": {},
     "source": [
      "Clearly with the above dataset we will want a non-linear decision boundary.\n",
      "\n",
      "Use\n",
      "\n",
      "$$h_\\theta(x) = g(\\theta_0 + \\theta_1x_1 + \\theta_2x_2 + \\theta_3x_1^2 + \\theta_4x_2^2)$$\n",
      "\n",
      "With guesses parameters (will later talk about how to automatically choose the parameters):\n",
      "\n",
      "$$\n",
      "\\theta = \n",
      "\\begin{bmatrix}\n",
      "-2\\cr\n",
      "0\\cr\n",
      "0\\cr\n",
      "1\\cr\n",
      "1\n",
      "\\end{bmatrix}$$\n",
      "\n",
      "Where we predict $y=1$ if $-2 + x_1^2 + x_2^2 \\geq 0$"
     ]
    },
    {
     "cell_type": "code",
     "collapsed": false,
     "input": [
      "an = linspace(0,2*pi,100)\n",
      "\n",
      "for x, y, c in zip(xs, ys, colors):\n",
      "    plt.scatter(x, y, color=c)\n",
      "axes().set_aspect('equal', 'datalim')\n",
      "plot( math.sqrt(2)*cos(an), math.sqrt(2)*sin(an), color='k' )\n",
      "plt.show()"
     ],
     "language": "python",
     "metadata": {},
     "outputs": [
      {
       "metadata": {},
       "output_type": "display_data",
       "png": "[encoded data removed]",
       "text": [
        "<matplotlib.figure.Figure at 0x115000c10>"
       ]
      }
     ],
     "prompt_number": 230
    },
    {
     "cell_type": "markdown",
     "metadata": {},
     "source": [
      "### Cost function for logistic regression\n",
      "\n",
      "Example dataset is of form:\n",
      "\n",
      "- Training set with m samples: $\\{ (x^{(1)}, y^{(1)}), (x^{(2)}, y^{(2)}), ..., (x^{(m)}, y^{(m)})\\}$\n",
      "- Where each sample is a vector of the form\n",
      "\n",
      "$$\n",
      "x \\in \n",
      "\\begin{bmatrix}\n",
      "x_0\\cr\n",
      "x_1\\cr\n",
      "...\\cr\n",
      "x_n\n",
      "\\end{bmatrix}, x_0 = 1, y \\in \\{0,1\\}$$\n",
      "\n",
      "$$ h_\\theta (x) = \\frac {1} {1 + e^{-\\theta^T x}}$$\n",
      "\n",
      "- Of course, we want to have a convex cost function\n",
      "- Use:\n",
      "\n",
      "$$J(\\theta) = \\frac{1}{m} \\sum\\limits_{i=1}^{m} \\text{Cost} (h_\\theta(x^{(i)}), y^{(i)})$$\n",
      "\n",
      "$$ \\text{Cost} (h_\\theta(x), y) =\n",
      "\\begin{cases}\n",
      "-\\log(h_\\theta(x)) & \\mbox{if } y = 1 \\\\\n",
      "-\\log(1 - h_\\theta(x)) & \\mbox{if } y = 0\n",
      "\\end{cases}$$\n",
      "\n"
     ]
    },
    {
     "cell_type": "markdown",
     "metadata": {},
     "source": [
      "### Gradient descent for logistic regression\n",
      "\n",
      "First let's define simplified cost function:\n",
      "\n",
      "$$\\text{Cost} (h_\\theta(x), y) =  -y \\log(h_\\theta(x)) -(1-y) \\log(1 - h_\\theta(x)) $$\n",
      "\n",
      "(since $y=1$ or $y=0$ always, the above is a more compact way of writing the cost function)\n",
      "\n",
      "Which gives us:\n",
      "\n",
      "$$J(\\theta) = \\frac{1}{m} \\Big[ \\sum\\limits_{i=1}^{m} -y^{(i)} \\log(h_\\theta(x^{(i)})) -(1-y^{(i)}) \\log(1 - h_\\theta(x^{(i)})) \\Big] $$\n",
      "\n",
      "To fit paramters $\\theta$:\n",
      "\n",
      "$$\\underset { \\theta} {min}  \\ J(\\theta)$$\n",
      "\n",
      "To make a prediction given new x:\n",
      "\n",
      "$$ \\text{output} \\ \\ \\ h_\\theta (x) = \\frac {1} {1 + e^{-\\theta^T x}}$$\n",
      "\n",
      "(remember that the above is equivalently:\n",
      "\n",
      "$$ h_\\theta(x) = P (y = 1 \\ | \\ x;  \\theta) $$\n",
      "\n",
      "#### Gradient descent\n",
      "\n",
      "Repeat {\n",
      "\n",
      "$\\theta_j := \\theta_j - \\alpha \\frac{\\partial}{\\partial \\theta_j} J(\\theta) $\n",
      "\n",
      "}\n",
      "\n",
      "Where \n",
      "\n",
      "$$ \\frac{\\partial}{\\partial \\theta_j} J(\\theta) = \\frac{1}{m} \\sum\\limits_{i=1}^{m} (h_\\theta(x^{(i)}) - y^{(i)}) x_j^{(i)} $$\n",
      "\n",
      "(where $\\theta_j$ all updated simultaneously)\n",
      "\n",
      "Algorithm is identical to linear regression!"
     ]
    },
    {
     "cell_type": "code",
     "collapsed": false,
     "input": [
      "## Return to linear decision boundary problem\n",
      "\n",
      "## Examine theta vector\n",
      "\n",
      "linex = np.arange(0, 3.5, 0.2)\n",
      "theta = np.array([-3, 1, 1])\n",
      "\n",
      "\n",
      "allxs = np.hstack((xs_linear[0], xs_linear[1]))\n",
      "alpha = .01\n",
      "for itr in range(1,11):\n",
      "    prev_theta = theta\n",
      "    \n",
      "    for j in range(1,len(theta)):\n",
      "        for i in allxs[0]:\n",
      "            product = h_theta(allxs[i],prev_theta) - allys[i]) * \n",
      "            total = total + \n",
      "        theta[j] = prev_theta[j] - alpha * 1 / len(allxs[0])\n",
      "\n",
      "\n",
      "liney = (- theta[1] * linex - theta[0] * 1) / theta[2]\n",
      "plt.plot(linex, liney, color='k')\n",
      "colors = cm.rainbow(np.linspace(0, 1, len(ys)))\n",
      "for x, y, c in zip(xs_linear, ys_linear, colors):\n",
      "    plt.scatter(x, y, color=c)\n",
      "plt.show()\n"
     ],
     "language": "python",
     "metadata": {},
     "outputs": [
      {
       "ename": "SyntaxError",
       "evalue": "invalid syntax (<ipython-input-268-02ff055b57e5>, line 16)",
       "output_type": "pyerr",
       "traceback": [
        "\u001b[0;36m  File \u001b[0;32m\"<ipython-input-268-02ff055b57e5>\"\u001b[0;36m, line \u001b[0;32m16\u001b[0m\n\u001b[0;31m    product = h_theta(allxs[i],prev_theta) - allys[i]) *\u001b[0m\n\u001b[0m                                                     ^\u001b[0m\n\u001b[0;31mSyntaxError\u001b[0m\u001b[0;31m:\u001b[0m invalid syntax\n"
       ]
      }
     ],
     "prompt_number": 268
    },
    {
     "cell_type": "code",
     "collapsed": false,
     "input": [
      "for j in range(1,len(theta)):\n",
      "    print j"
     ],
     "language": "python",
     "metadata": {},
     "outputs": [
      {
       "output_type": "stream",
       "stream": "stdout",
       "text": [
        "1\n",
        "2\n"
       ]
      }
     ],
     "prompt_number": 269
    },
    {
     "cell_type": "markdown",
     "metadata": {},
     "source": [
      "##### Advanced Optimization\n",
      "\n",
      "More complex methods than gradient descent:\n",
      "\n",
      "- Conjugate gradient\n",
      "- BFGS\n",
      "- L-BFGS"
     ]
    }
   ],
   "metadata": {}
  }
 ]
}