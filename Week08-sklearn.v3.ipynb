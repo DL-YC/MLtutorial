{
 "metadata": {
  "kernelspec": {
   "display_name": "Python 2",
   "language": "python",
   "name": "python2"
  },
  "language_info": {
   "codemirror_mode": {
    "name": "ipython",
    "version": 2
   },
   "file_extension": ".py",
   "mimetype": "text/x-python",
   "name": "python",
   "nbconvert_exporter": "python",
   "pygments_lexer": "ipython2",
   "version": "2.7.9"
  },
  "name": ""
 },
 "nbformat": 3,
 "nbformat_minor": 0,
 "worksheets": [
  {
   "cells": [
    {
     "cell_type": "code",
     "collapsed": true,
     "input": [
      "# Use this to turn into a reveal.js html presentation\n",
      "# ipython nbconvert Weeks3-5.ipynb --to slides --post serve\n",
      "\n",
      "import math\n",
      "import matplotlib.pyplot as plt\n",
      "import numpy as np\n",
      "%matplotlib inline"
     ],
     "language": "python",
     "metadata": {},
     "outputs": [],
     "prompt_number": 2
    },
    {
     "cell_type": "code",
     "collapsed": false,
     "input": [
      "import matplotlib.cm as cm\n",
      "\n",
      "m = 100\n",
      "x_0_a = 2 * np.random.rand(1,m/2)\n",
      "x_0_b = 2 * np.random.rand(1,m/2) + 2.3\n",
      "x_0 = np.hstack((x_0_a, x_0_b))\n",
      "\n",
      "\n",
      "x_1_a = 2.5 * np.random.rand(1,m/2)\n",
      "x_1_b = 2.5 * np.random.rand(1,m/2) + 1\n",
      "x_1 = np.hstack((x_1_a, x_1_b))\n",
      "\n",
      "\n",
      "x = np.vstack(( x_0, x_1))\n",
      "\n",
      "plt.scatter(x[0], x[1], color='black')\n",
      "plt.show()\n"
     ],
     "language": "python",
     "metadata": {},
     "outputs": [
      {
       "metadata": {},
       "output_type": "display_data",
       "png": "[encoded data removed]",
       "text": [
        "<matplotlib.figure.Figure at 0x10dac0e50>"
       ]
      }
     ],
     "prompt_number": 3
    },
    {
     "cell_type": "code",
     "collapsed": false,
     "input": [
      "## K-Means implementation by sklearn\n",
      "\n",
      "from sklearn.cluster import KMeans\n",
      "\n",
      "kmeans = KMeans(n_clusters=2)\n",
      "kmeans.fit(x)\n",
      "\n",
      "\n",
      "# KMeans\n",
      "ax = fig.add_subplot(1, 3, 1)\n",
      "for k, col in zip(range(n_clusters), colors):\n",
      "    my_members = k_means_labels == k\n",
      "    cluster_center = k_means_cluster_centers[k]\n",
      "    ax.plot(X[my_members, 0], X[my_members, 1], 'w',\n",
      "            markerfacecolor=col, marker='.')\n",
      "    ax.plot(cluster_center[0], cluster_center[1], 'o', markerfacecolor=col,\n",
      "            markeredgecolor='k', markersize=6)\n",
      "ax.set_title('KMeans')\n",
      "ax.set_xticks(())\n",
      "ax.set_yticks(())\n",
      "plt.text(-3.5, 1.8,  'train time: %.2fs\\ninertia: %f' % (\n",
      "    t_batch, k_means.inertia_))\n"
     ],
     "language": "python",
     "metadata": {},
     "outputs": [
      {
       "ename": "NameError",
       "evalue": "name 'fig' is not defined",
       "output_type": "pyerr",
       "traceback": [
        "\u001b[0;31m---------------------------------------------------------------------------\u001b[0m",
        "\u001b[0;31mNameError\u001b[0m                                 Traceback (most recent call last)",
        "\u001b[0;32m<ipython-input-10-a8d4e827e6d6>\u001b[0m in \u001b[0;36m<module>\u001b[0;34m()\u001b[0m\n\u001b[1;32m      8\u001b[0m \u001b[0;34m\u001b[0m\u001b[0m\n\u001b[1;32m      9\u001b[0m \u001b[0;31m# KMeans\u001b[0m\u001b[0;34m\u001b[0m\u001b[0;34m\u001b[0m\u001b[0m\n\u001b[0;32m---> 10\u001b[0;31m \u001b[0max\u001b[0m \u001b[0;34m=\u001b[0m \u001b[0mfig\u001b[0m\u001b[0;34m.\u001b[0m\u001b[0madd_subplot\u001b[0m\u001b[0;34m(\u001b[0m\u001b[0;36m1\u001b[0m\u001b[0;34m,\u001b[0m \u001b[0;36m3\u001b[0m\u001b[0;34m,\u001b[0m \u001b[0;36m1\u001b[0m\u001b[0;34m)\u001b[0m\u001b[0;34m\u001b[0m\u001b[0m\n\u001b[0m\u001b[1;32m     11\u001b[0m \u001b[0;32mfor\u001b[0m \u001b[0mk\u001b[0m\u001b[0;34m,\u001b[0m \u001b[0mcol\u001b[0m \u001b[0;32min\u001b[0m \u001b[0mzip\u001b[0m\u001b[0;34m(\u001b[0m\u001b[0mrange\u001b[0m\u001b[0;34m(\u001b[0m\u001b[0mn_clusters\u001b[0m\u001b[0;34m)\u001b[0m\u001b[0;34m,\u001b[0m \u001b[0mcolors\u001b[0m\u001b[0;34m)\u001b[0m\u001b[0;34m:\u001b[0m\u001b[0;34m\u001b[0m\u001b[0m\n\u001b[1;32m     12\u001b[0m     \u001b[0mmy_members\u001b[0m \u001b[0;34m=\u001b[0m \u001b[0mk_means_labels\u001b[0m \u001b[0;34m==\u001b[0m \u001b[0mk\u001b[0m\u001b[0;34m\u001b[0m\u001b[0m\n",
        "\u001b[0;31mNameError\u001b[0m: name 'fig' is not defined"
       ]
      }
     ],
     "prompt_number": 10
    },
    {
     "cell_type": "code",
     "collapsed": true,
     "input": [],
     "language": "python",
     "metadata": {},
     "outputs": [],
     "prompt_number": null
    }
   ],
   "metadata": {}
  }
 ]
}